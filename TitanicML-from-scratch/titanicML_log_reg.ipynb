{
 "cells": [
  {
   "cell_type": "markdown",
   "metadata": {},
   "source": [
    "# Kaggle Titanic : Machine Learning from Disaster From Scratch ! (Part 1 : Logistic Regression)\n",
    "\n",
    "***\n",
    "\n",
    "In Part 1 of this two part notebook , we will explore the idea of logistic regression as a single cell neural network and write a code to classify  the Kaggle Titanic: Machine Learning from Disaster dataset.\n",
    "\n",
    "## Step 1: Import Libraries and Data\n",
    "***\n",
    "Since we are trying to write our own logistic regression function , we will not be using any of the popular machine learning library such as scikit learn. We will only be using Numpy for matrix computations and Pandas to handle our data."
   ]
  },
  {
   "cell_type": "code",
   "execution_count": 144,
   "metadata": {},
   "outputs": [],
   "source": [
    "import numpy as np\n",
    "import pandas as pd\n",
    "import tqdm"
   ]
  },
  {
   "cell_type": "markdown",
   "metadata": {},
   "source": [
    "Our dataset is in csv format. \n",
    "We use pandas to load the data"
   ]
  },
  {
   "cell_type": "code",
   "execution_count": 145,
   "metadata": {},
   "outputs": [
    {
     "name": "stdout",
     "output_type": "stream",
     "text": [
      "(891, 12)\n",
      "(418, 11)\n"
     ]
    }
   ],
   "source": [
    "data_train = pd.read_csv('Data/train.csv')\n",
    "data_test = pd.read_csv('Data/test.csv')\n",
    "print(data_train.shape)\n",
    "print(data_test.shape)"
   ]
  },
  {
   "cell_type": "markdown",
   "metadata": {},
   "source": [
    "Let us visualize our dataset by taking a look at first five entries of our data"
   ]
  },
  {
   "cell_type": "code",
   "execution_count": 146,
   "metadata": {},
   "outputs": [
    {
     "data": {
      "text/html": [
       "<div>\n",
       "<style scoped>\n",
       "    .dataframe tbody tr th:only-of-type {\n",
       "        vertical-align: middle;\n",
       "    }\n",
       "\n",
       "    .dataframe tbody tr th {\n",
       "        vertical-align: top;\n",
       "    }\n",
       "\n",
       "    .dataframe thead th {\n",
       "        text-align: right;\n",
       "    }\n",
       "</style>\n",
       "<table border=\"1\" class=\"dataframe\">\n",
       "  <thead>\n",
       "    <tr style=\"text-align: right;\">\n",
       "      <th></th>\n",
       "      <th>PassengerId</th>\n",
       "      <th>Survived</th>\n",
       "      <th>Pclass</th>\n",
       "      <th>Name</th>\n",
       "      <th>Sex</th>\n",
       "      <th>Age</th>\n",
       "      <th>SibSp</th>\n",
       "      <th>Parch</th>\n",
       "      <th>Ticket</th>\n",
       "      <th>Fare</th>\n",
       "      <th>Cabin</th>\n",
       "      <th>Embarked</th>\n",
       "    </tr>\n",
       "  </thead>\n",
       "  <tbody>\n",
       "    <tr>\n",
       "      <td>0</td>\n",
       "      <td>1</td>\n",
       "      <td>0</td>\n",
       "      <td>3</td>\n",
       "      <td>Braund, Mr. Owen Harris</td>\n",
       "      <td>male</td>\n",
       "      <td>22.0</td>\n",
       "      <td>1</td>\n",
       "      <td>0</td>\n",
       "      <td>A/5 21171</td>\n",
       "      <td>7.2500</td>\n",
       "      <td>NaN</td>\n",
       "      <td>S</td>\n",
       "    </tr>\n",
       "    <tr>\n",
       "      <td>1</td>\n",
       "      <td>2</td>\n",
       "      <td>1</td>\n",
       "      <td>1</td>\n",
       "      <td>Cumings, Mrs. John Bradley (Florence Briggs Th...</td>\n",
       "      <td>female</td>\n",
       "      <td>38.0</td>\n",
       "      <td>1</td>\n",
       "      <td>0</td>\n",
       "      <td>PC 17599</td>\n",
       "      <td>71.2833</td>\n",
       "      <td>C85</td>\n",
       "      <td>C</td>\n",
       "    </tr>\n",
       "    <tr>\n",
       "      <td>2</td>\n",
       "      <td>3</td>\n",
       "      <td>1</td>\n",
       "      <td>3</td>\n",
       "      <td>Heikkinen, Miss. Laina</td>\n",
       "      <td>female</td>\n",
       "      <td>26.0</td>\n",
       "      <td>0</td>\n",
       "      <td>0</td>\n",
       "      <td>STON/O2. 3101282</td>\n",
       "      <td>7.9250</td>\n",
       "      <td>NaN</td>\n",
       "      <td>S</td>\n",
       "    </tr>\n",
       "    <tr>\n",
       "      <td>3</td>\n",
       "      <td>4</td>\n",
       "      <td>1</td>\n",
       "      <td>1</td>\n",
       "      <td>Futrelle, Mrs. Jacques Heath (Lily May Peel)</td>\n",
       "      <td>female</td>\n",
       "      <td>35.0</td>\n",
       "      <td>1</td>\n",
       "      <td>0</td>\n",
       "      <td>113803</td>\n",
       "      <td>53.1000</td>\n",
       "      <td>C123</td>\n",
       "      <td>S</td>\n",
       "    </tr>\n",
       "    <tr>\n",
       "      <td>4</td>\n",
       "      <td>5</td>\n",
       "      <td>0</td>\n",
       "      <td>3</td>\n",
       "      <td>Allen, Mr. William Henry</td>\n",
       "      <td>male</td>\n",
       "      <td>35.0</td>\n",
       "      <td>0</td>\n",
       "      <td>0</td>\n",
       "      <td>373450</td>\n",
       "      <td>8.0500</td>\n",
       "      <td>NaN</td>\n",
       "      <td>S</td>\n",
       "    </tr>\n",
       "  </tbody>\n",
       "</table>\n",
       "</div>"
      ],
      "text/plain": [
       "   PassengerId  Survived  Pclass  \\\n",
       "0            1         0       3   \n",
       "1            2         1       1   \n",
       "2            3         1       3   \n",
       "3            4         1       1   \n",
       "4            5         0       3   \n",
       "\n",
       "                                                Name     Sex   Age  SibSp  \\\n",
       "0                            Braund, Mr. Owen Harris    male  22.0      1   \n",
       "1  Cumings, Mrs. John Bradley (Florence Briggs Th...  female  38.0      1   \n",
       "2                             Heikkinen, Miss. Laina  female  26.0      0   \n",
       "3       Futrelle, Mrs. Jacques Heath (Lily May Peel)  female  35.0      1   \n",
       "4                           Allen, Mr. William Henry    male  35.0      0   \n",
       "\n",
       "   Parch            Ticket     Fare Cabin Embarked  \n",
       "0      0         A/5 21171   7.2500   NaN        S  \n",
       "1      0          PC 17599  71.2833   C85        C  \n",
       "2      0  STON/O2. 3101282   7.9250   NaN        S  \n",
       "3      0            113803  53.1000  C123        S  \n",
       "4      0            373450   8.0500   NaN        S  "
      ]
     },
     "execution_count": 146,
     "metadata": {},
     "output_type": "execute_result"
    }
   ],
   "source": [
    "data_train.head()"
   ]
  },
  {
   "cell_type": "markdown",
   "metadata": {},
   "source": [
    "Our dataset consists of various Attributes such as PassengerID , Name , Sex , Age etc and the attribute called \"survived\".\n",
    "Since we are trying to predict whether or not a passanger survived , we will store these values as labels of our dataset Y and rest of the attributes can be regarded as features.\n",
    "But, first we have to clean up for data and the first step is to look for missing data and fill it."
   ]
  },
  {
   "cell_type": "code",
   "execution_count": 147,
   "metadata": {},
   "outputs": [
    {
     "data": {
      "text/plain": [
       "PassengerId      0\n",
       "Survived         0\n",
       "Pclass           0\n",
       "Name             0\n",
       "Sex              0\n",
       "Age            177\n",
       "SibSp            0\n",
       "Parch            0\n",
       "Ticket           0\n",
       "Fare             0\n",
       "Cabin          687\n",
       "Embarked         2\n",
       "dtype: int64"
      ]
     },
     "execution_count": 147,
     "metadata": {},
     "output_type": "execute_result"
    }
   ],
   "source": [
    "data_train.isnull().sum()"
   ]
  },
  {
   "cell_type": "code",
   "execution_count": 148,
   "metadata": {},
   "outputs": [
    {
     "data": {
      "text/plain": [
       "PassengerId      0\n",
       "Pclass           0\n",
       "Name             0\n",
       "Sex              0\n",
       "Age             86\n",
       "SibSp            0\n",
       "Parch            0\n",
       "Ticket           0\n",
       "Fare             1\n",
       "Cabin          327\n",
       "Embarked         0\n",
       "dtype: int64"
      ]
     },
     "execution_count": 148,
     "metadata": {},
     "output_type": "execute_result"
    }
   ],
   "source": [
    "data_test.isnull().sum()"
   ]
  },
  {
   "cell_type": "markdown",
   "metadata": {},
   "source": [
    "We are missing a lot of data about the age of passangers from both our training and testing datasets.\n",
    "We are also missing cabin numbers and the embarkation data, but we can fix that.\n",
    "\n",
    "\n",
    "### There are a couple of methods of dealing with missing data:\n",
    "- You can simply ignore the data which has missing entries, but if a significant amount of your data is missing then we will endup throwing away a lot of data.\n",
    "\n",
    "- Replace the missing data by the some value such as mean, median or mode of the rest of the data.\n",
    "\n",
    "Since we have a training set of 891 examples and a test set of 418 examples and we are missing a lot of age data, we would be throwing away a lot of the rest of the data if we simply remove the data entires with missing age values. Hence , we will try to fill missing value.\n",
    "As to what it should be filled with , we can fill them with mean , mode or median of the.\n",
    "There are other methods such as KNN , MICE or imputation using deeplearning but they are currently beyond our scope.\n",
    "\n",
    "For this experiment we can just try them all and see what works best !"
   ]
  },
  {
   "cell_type": "code",
   "execution_count": 149,
   "metadata": {},
   "outputs": [],
   "source": [
    "#function that replaces missing data based on the method and key parameters\n",
    "def fill_nan(data, key, method = \"mean\"):\n",
    "    if method == \"mean\":\n",
    "        data[key].fillna(data[\"Age\"].mean(), inplace = True)\n",
    "    if method == \"mode\":\n",
    "        data[key].fillna(data[\"Age\"].mode()[0], inplace = True)\n",
    "    if method == \"median\":\n",
    "        data[key].fillna(data[\"Age\"].median(), inplace = True)"
   ]
  },
  {
   "cell_type": "markdown",
   "metadata": {},
   "source": [
    "\n",
    "Our fill_nan() function will fill missing age values from our dataset depending on the method that we pass as a parameter.\n",
    "\n",
    "#### Lets try to fix missing embarkation and fare data.\n",
    "- Since Embarked is a string which defines what port a person boarded the titanic , the we fill the missing embarkation data with the mode of the dataset.\n",
    "\n",
    "- Fare data is a float value and again we can just repurpose our fill_nan() function to try out what works best in our case but since only one entry in the test dataset is missing this value , it wont make much of a difference. So , lets just fill it with the mean fare data\n",
    "\n",
    "But , before we make any changes to our data , lets copy our data into seperate variables so that we still have our original data incase we mess up !"
   ]
  },
  {
   "cell_type": "code",
   "execution_count": 150,
   "metadata": {},
   "outputs": [],
   "source": [
    "#make copys of our data. deep = true means that each entry of our data also gets copied to a different memory address\n",
    "data_train_cleaned = data_train.copy(deep = True)\n",
    "data_test_cleaned = data_test.copy(deep = True)\n",
    "\n",
    "#calculate stats of our data\n",
    "data_train_cleaned.describe(include = 'all')\n",
    "data_test_cleaned.describe(include = 'all')\n",
    "\n",
    "#clean data\n",
    "#fill empty age\n",
    "fill_nan(data_train_cleaned, \"Age\", \"median\")\n",
    "fill_nan(data_test_cleaned, \"Age\", \"median\")\n",
    "\n",
    "#fill empty embarked in train\n",
    "data_train_cleaned[\"Embarked\"].fillna(data_train_cleaned[\"Embarked\"].mode()[0], inplace = True)\n",
    "\n",
    "#fill empty fare in test\n",
    "data_test_cleaned[\"Fare\"].fillna(data_test_cleaned[\"Fare\"].mean(), inplace = True)"
   ]
  },
  {
   "cell_type": "markdown",
   "metadata": {},
   "source": [
    "The values of \"Cabin\" is a string which tells the cabin number of the passanger . But since there is really no way to fill missing cabin numbers , we will simply drop that column."
   ]
  },
  {
   "cell_type": "code",
   "execution_count": 151,
   "metadata": {},
   "outputs": [],
   "source": [
    "data_train_cleaned = data_train_cleaned.drop(\"Cabin\", axis = 1)\n",
    "data_test_cleaned = data_test_cleaned.drop(\"Cabin\", axis = 1)"
   ]
  },
  {
   "cell_type": "markdown",
   "metadata": {},
   "source": [
    "Passanger ID , Name of teh passanger and Ticket number donot play a role in survival of a person , so these columns can be dropped."
   ]
  },
  {
   "cell_type": "code",
   "execution_count": 152,
   "metadata": {},
   "outputs": [],
   "source": [
    "data_train_cleaned = data_train_cleaned.drop([\"PassengerId\", \"Name\", \"Ticket\"], axis = 1)\n",
    "data_test_cleaned = data_test_cleaned.drop([\"PassengerId\", \"Name\", \"Ticket\"], axis = 1)"
   ]
  },
  {
   "cell_type": "markdown",
   "metadata": {},
   "source": [
    "Let us visualize our data again !"
   ]
  },
  {
   "cell_type": "code",
   "execution_count": 153,
   "metadata": {},
   "outputs": [
    {
     "name": "stdout",
     "output_type": "stream",
     "text": [
      "   Survived  Pclass     Sex   Age  SibSp  Parch     Fare Embarked\n",
      "0         0       3    male  22.0      1      0   7.2500        S\n",
      "1         1       1  female  38.0      1      0  71.2833        C\n",
      "2         1       3  female  26.0      0      0   7.9250        S\n",
      "3         1       1  female  35.0      1      0  53.1000        S\n",
      "4         0       3    male  35.0      0      0   8.0500        S\n",
      "Survived    0\n",
      "Pclass      0\n",
      "Sex         0\n",
      "Age         0\n",
      "SibSp       0\n",
      "Parch       0\n",
      "Fare        0\n",
      "Embarked    0\n",
      "dtype: int64\n",
      "Pclass      0\n",
      "Sex         0\n",
      "Age         0\n",
      "SibSp       0\n",
      "Parch       0\n",
      "Fare        0\n",
      "Embarked    0\n",
      "dtype: int64\n"
     ]
    }
   ],
   "source": [
    "print(data_train_cleaned.head())\n",
    "print(data_train_cleaned.isnull().sum())\n",
    "print(data_test_cleaned.isnull().sum())"
   ]
  },
  {
   "cell_type": "markdown",
   "metadata": {},
   "source": [
    "As we can see there are no Null values in our dataset and we have removed irrelevant data.\n",
    "Now , we need to swap the string values of Sex and Embarked by integers inorder to use them as features."
   ]
  },
  {
   "cell_type": "code",
   "execution_count": 154,
   "metadata": {},
   "outputs": [
    {
     "name": "stdout",
     "output_type": "stream",
     "text": [
      "   Survived  Pclass  Sex   Age  SibSp  Parch     Fare  Embarked\n",
      "0         0       3    1  22.0      1      0   7.2500         0\n",
      "1         1       1    0  38.0      1      0  71.2833         1\n",
      "2         1       3    0  26.0      0      0   7.9250         0\n",
      "3         1       1    0  35.0      1      0  53.1000         0\n",
      "4         0       3    1  35.0      0      0   8.0500         0\n",
      "   Pclass  Sex   Age  SibSp  Parch     Fare  Embarked\n",
      "0       3    1  34.5      0      0   7.8292         2\n",
      "1       3    0  47.0      1      0   7.0000         0\n",
      "2       2    1  62.0      0      0   9.6875         2\n",
      "3       3    1  27.0      0      0   8.6625         0\n",
      "4       3    0  22.0      1      1  12.2875         0\n"
     ]
    }
   ],
   "source": [
    "#map Sex of a passenger to interger values , female : 0 , male : 1\n",
    "data_train_cleaned['Sex'] = data_train_cleaned['Sex'].map( {'female': 0, 'male': 1} ).astype(int)\n",
    "data_test_cleaned['Sex'] = data_test_cleaned['Sex'].map( {'female': 0, 'male': 1} ).astype(int)\n",
    "\n",
    "#map embarked of a passenger to integer values S: 0, C : 1, Q : 2\n",
    "data_train_cleaned['Embarked'] = data_train_cleaned['Embarked'].map({'S' : 0, 'C' : 1, 'Q': 2}).astype(int)\n",
    "data_test_cleaned['Embarked'] = data_test_cleaned['Embarked'].map({'S' : 0, 'C' : 1, 'Q': 2}).astype(int)\n",
    "\n",
    "#visualize data\n",
    "print(data_train_cleaned.head())\n",
    "print(data_test_cleaned.head())"
   ]
  },
  {
   "cell_type": "markdown",
   "metadata": {},
   "source": [
    "Now that we have cleaned and prepare our data , we can proceed with programming our logistic regression unit.\n",
    "\n",
    "Let us first rearrange our data into X_train ( training dataset containng 70% of the data_train_cleaned) , Y_train ( labels of training dataset ), X_val ( our validation dataset which will be 30% of data_train_cleaned ), Y_val ( labels of our validation dataset) "
   ]
  },
  {
   "cell_type": "code",
   "execution_count": 155,
   "metadata": {},
   "outputs": [
    {
     "name": "stdout",
     "output_type": "stream",
     "text": [
      "x train : [[ 3.      1.     22.     ...  0.      7.25    0.    ]\n",
      " [ 1.      0.     38.     ...  0.     71.2833  1.    ]\n",
      " [ 3.      0.     26.     ...  0.      7.925   0.    ]\n",
      " ...\n",
      " [ 3.      1.     27.     ...  0.     14.4542  1.    ]\n",
      " [ 1.      1.     42.     ...  0.     52.5542  0.    ]\n",
      " [ 3.      1.     20.     ...  1.     15.7417  1.    ]]\n",
      "x val : [[ 3.      1.     21.     ...  0.      7.8542  0.    ]\n",
      " [ 3.      1.     21.     ...  0.     16.1     0.    ]\n",
      " [ 1.      1.     61.     ...  0.     32.3208  0.    ]\n",
      " ...\n",
      " [ 3.      0.     28.     ...  2.     23.45    0.    ]\n",
      " [ 1.      1.     26.     ...  0.     30.      1.    ]\n",
      " [ 3.      1.     32.     ...  0.      7.75    2.    ]]\n",
      "y train:[0. 1. 1. 1. 0. 0. 0. 0. 1. 1. 1. 1. 0. 0. 0. 1. 0. 1. 0. 1. 0. 1. 1. 1.\n",
      " 0. 1. 0. 0. 1. 0. 0. 1. 1. 0. 0. 0. 1. 0. 0. 1. 0. 0. 0. 1. 1. 0. 0. 1.\n",
      " 0. 0. 0. 0. 1. 1. 0. 1. 1. 0. 1. 0. 0. 1. 0. 0. 0. 1. 1. 0. 1. 0. 0. 0.\n",
      " 0. 0. 1. 0. 0. 0. 1. 1. 0. 1. 1. 0. 1. 1. 0. 0. 1. 0. 0. 0. 0. 0. 0. 0.\n",
      " 0. 1. 1. 0. 0. 0. 0. 0. 0. 0. 1. 1. 0. 1. 0. 0. 0. 0. 0. 0. 0. 0. 0. 0.\n",
      " 0. 0. 0. 1. 0. 1. 0. 1. 1. 0. 0. 0. 0. 1. 0. 0. 1. 0. 0. 0. 0. 1. 1. 0.\n",
      " 0. 0. 1. 0. 0. 0. 0. 1. 0. 0. 0. 0. 1. 0. 0. 0. 0. 1. 0. 0. 0. 1. 1. 0.\n",
      " 0. 0. 0. 0. 1. 0. 0. 0. 0. 0. 0. 0. 0. 0. 0. 1. 1. 0. 1. 1. 0. 0. 1. 0.\n",
      " 1. 1. 1. 1. 0. 0. 1. 0. 0. 0. 0. 0. 1. 0. 0. 1. 1. 1. 0. 1. 0. 0. 0. 1.\n",
      " 1. 0. 1. 0. 1. 0. 0. 0. 1. 0. 1. 0. 0. 0. 1. 0. 0. 1. 0. 0. 0. 1. 0. 0.\n",
      " 0. 1. 0. 0. 0. 0. 0. 1. 1. 0. 0. 0. 0. 0. 0. 1. 1. 1. 1. 1. 0. 1. 0. 0.\n",
      " 0. 0. 0. 1. 1. 1. 0. 1. 1. 0. 1. 1. 0. 0. 0. 1. 0. 0. 0. 1. 0. 0. 1. 0.\n",
      " 1. 1. 1. 1. 0. 0. 0. 0. 0. 0. 1. 1. 1. 1. 0. 1. 0. 1. 1. 1. 0. 1. 1. 1.\n",
      " 0. 0. 0. 1. 1. 0. 1. 1. 0. 0. 1. 1. 0. 1. 0. 1. 1. 1. 1. 0. 0. 0. 1. 0.\n",
      " 0. 1. 1. 0. 1. 1. 0. 0. 0. 1. 1. 1. 1. 0. 0. 0. 0. 0. 0. 0. 1. 0. 1. 1.\n",
      " 0. 0. 0. 0. 0. 0. 1. 1. 1. 1. 1. 0. 0. 0. 0. 1. 1. 0. 0. 0. 1. 1. 0. 1.\n",
      " 0. 0. 0. 1. 0. 1. 1. 1. 0. 1. 1. 0. 0. 0. 0. 1. 1. 0. 0. 0. 0. 0. 0. 1.\n",
      " 0. 0. 0. 0. 1. 0. 1. 0. 1. 1. 0. 0. 0. 0. 0. 0. 0. 0. 1. 1. 0. 1. 1. 1.\n",
      " 1. 0. 0. 1. 0. 1. 0. 0. 1. 0. 0. 1. 1. 1. 1. 1. 1. 1. 0. 0. 0. 1. 0. 1.\n",
      " 0. 1. 1. 0. 1. 0. 0. 0. 0. 0. 0. 0. 0. 1. 0. 0. 1. 1. 0. 0. 0. 0. 0. 1.\n",
      " 0. 0. 0. 1. 1. 0. 1. 0. 0. 1. 0. 0. 0. 0. 0. 0. 1. 0. 0. 0. 0. 0. 0. 0.\n",
      " 1. 0. 1. 1. 0. 1. 1. 0. 1. 1. 0. 0. 1. 0. 1. 0. 1. 0. 0. 1. 0. 0. 1. 0.\n",
      " 0. 0. 1. 0. 0. 1. 0. 1. 0. 1. 0. 1. 1. 0. 0. 1. 0. 0. 1. 1. 0. 1. 1. 0.\n",
      " 0. 1. 1. 0. 1. 0. 1. 1. 0. 0. 0. 0. 0. 0. 0. 0. 0. 1. 1. 1. 1. 1. 0. 0.\n",
      " 1. 1. 0. 1. 1. 1. 0. 0. 0. 1. 0. 1. 0. 0. 0. 1. 0. 0. 0. 0. 1. 0. 0. 1.\n",
      " 1. 0. 0. 0. 1. 0. 0. 1. 1. 1. 0. 0. 1. 0. 0. 1. 0. 0. 1. 0. 0. 1. 1.]\n",
      "y val : [0. 0. 0. 0. 1. 0. 0. 1. 0. 1. 0. 0. 1. 0. 0. 0. 0. 0. 1. 0. 1. 1. 1. 0.\n",
      " 1. 0. 1. 0. 1. 0. 1. 0. 0. 0. 0. 0. 0. 1. 0. 0. 0. 1. 0. 0. 0. 0. 1. 1.\n",
      " 0. 0. 1. 0. 0. 0. 1. 0. 1. 0. 1. 0. 0. 0. 0. 0. 0. 0. 1. 1. 1. 1. 0. 0.\n",
      " 0. 0. 1. 0. 0. 1. 1. 0. 0. 0. 0. 1. 1. 1. 1. 1. 0. 1. 0. 0. 0. 1. 1. 0.\n",
      " 0. 1. 0. 0. 0. 1. 0. 1. 1. 0. 0. 1. 0. 0. 0. 0. 0. 0. 1. 0. 0. 1. 0. 1.\n",
      " 0. 1. 0. 0. 1. 0. 0. 1. 1. 0. 0. 1. 1. 0. 0. 0. 1. 0. 0. 1. 1. 0. 1. 0.\n",
      " 0. 0. 0. 0. 0. 0. 0. 1. 0. 0. 1. 0. 1. 1. 1. 0. 0. 0. 0. 1. 0. 1. 0. 0.\n",
      " 0. 0. 0. 0. 0. 1. 1. 0. 0. 0. 1. 1. 1. 1. 0. 0. 0. 0. 1. 0. 0. 0. 0. 0.\n",
      " 0. 0. 0. 0. 0. 1. 1. 0. 1. 0. 0. 0. 1. 1. 1. 1. 1. 0. 0. 0. 1. 0. 0. 1.\n",
      " 1. 0. 0. 1. 0. 0. 0. 0. 0. 0. 1. 0. 0. 0. 1. 0. 1. 1. 1. 1. 0. 0. 0. 1.\n",
      " 0. 0. 1. 1. 0. 0. 1. 0. 1. 0. 0. 1. 1. 0. 0. 0. 1. 1. 0. 0. 0. 0. 0. 0.\n",
      " 1. 0. 1. 0.]\n",
      "x train :(623, 7)\n",
      "x val :(268, 7)\n",
      "y train :(623,)\n",
      "y val :(268,)\n"
     ]
    }
   ],
   "source": [
    "#make a copy of our data to slice it\n",
    "X_data = data_train_cleaned.copy(deep = True).values # .values converst pandas dataframe to a numpy array\n",
    "\n",
    "#split data into train and val\n",
    "X_train = X_data[:623] #70% of our training data 891 is ~ 623 values\n",
    "X_val = X_data[623:] #30% of our training data is ~ 268 values\n",
    "\n",
    "# labels are \" survived \" column of the dataset\n",
    "Y_train = X_train[:,0]\n",
    "Y_val = X_val[:,0]\n",
    "\n",
    "#remove labels from dataset and only keep features\n",
    "X_train = np.delete(X_train, 0, axis = 1)\n",
    "X_val = np.delete(X_val, 0, axis = 1)\n",
    "\n",
    "#print data for sanity check\n",
    "print(\"x train : \" + str(X_train))\n",
    "print(\"x val : \" + str(X_val))\n",
    "print(\"y train:\"+ str(Y_train))\n",
    "print(\"y val : \" +str(Y_val))\n",
    "\n",
    "#print shapes for sanity check\n",
    "print(\"x train :\" + str(X_train.shape))\n",
    "print(\"x val :\" + str(X_val.shape))\n",
    "print(\"y train :\" + str(Y_train.shape))\n",
    "print(\"y val :\" + str(Y_val.shape) )"
   ]
  },
  {
   "cell_type": "markdown",
   "metadata": {},
   "source": [
    "Our Labels are weird rank 1 arrays and our training sets are arranged such that eash row is a training feature and each column is an example.\n",
    "\n",
    "Let is rearrange it such that each column of our training set is a different training example and our labels are a one dimentional column vector"
   ]
  },
  {
   "cell_type": "code",
   "execution_count": 156,
   "metadata": {},
   "outputs": [
    {
     "name": "stdout",
     "output_type": "stream",
     "text": [
      "x train :(7, 623)\n",
      "x val :(7, 268)\n",
      "y train :(623, 1)\n",
      "y val :(268, 1)\n"
     ]
    }
   ],
   "source": [
    "# rearrange data such that each column is a different training example\n",
    "X_train = X_train.T\n",
    "X_val = X_val.T\n",
    "\n",
    "#fix our lable matrix\n",
    "Y_train = Y_train.reshape((623, 1))\n",
    "Y_val = Y_val.reshape((268, 1))\n",
    "\n",
    "#sanity check\n",
    "print(\"x train :\" + str(X_train.shape))\n",
    "print(\"x val :\" + str(X_val.shape))\n",
    "print(\"y train :\" + str(Y_train.shape))\n",
    "print(\"y val :\" + str(Y_val.shape) )"
   ]
  },
  {
   "cell_type": "markdown",
   "metadata": {},
   "source": [
    "Now we are ready to write our logistic regression !\n",
    "\n",
    "\n",
    "As discussed earlier , Logistic regression can be thought of as a single cell neural network with $ W^{(n)} $ parameters, where $n$ is the number of features and a single bias $b$\n",
    "\n",
    "We use sigmoid activation function where $\\sigma(z) = \\dfrac{1}{1 + e^{-z}}$\n",
    "\n",
    "Lets take a look at the sigmoid activation function !"
   ]
  },
  {
   "cell_type": "code",
   "execution_count": 157,
   "metadata": {},
   "outputs": [
    {
     "data": {
      "text/plain": [
       "[<matplotlib.lines.Line2D at 0x2288a2c5b08>]"
      ]
     },
     "execution_count": 157,
     "metadata": {},
     "output_type": "execute_result"
    },
    {
     "data": {
      "image/png": "[encoded data removed]",
      "text/plain": [
       "<Figure size 432x288 with 1 Axes>"
      ]
     },
     "metadata": {
      "needs_background": "light"
     },
     "output_type": "display_data"
    }
   ],
   "source": [
    "#import matplotlib to plot our sigmoid function\n",
    "%matplotlib inline\n",
    "import matplotlib.pyplot as plt\n",
    "x = np.linspace(-5, 5, 200)\n",
    "\n",
    "#define sigmoid function\n",
    "def sigmoid(x):\n",
    "    sig = 1/(1 + np.exp(-x))\n",
    "    return sig\n",
    "\n",
    "plt.plot(x, sigmoid(x))"
   ]
  },
  {
   "cell_type": "markdown",
   "metadata": {},
   "source": [
    "As we can see, the sigmoid function maps values on x axis to values on y axis between 0 and 1.\n",
    "This can be interpreted as the probability of an event occuring.\n",
    "In our case , probability being close to 1 means that the person may have survived the titanic disaster !\n",
    "\n",
    "A more detailed explanation as to why we use this function, can be found here : https://qr.ae/pNnoDa\n",
    "\n",
    "Other advantages of logistic regression is that for lower values i.e between -2.5 and 2.5 , the gradient of the function is quite large, leading to faster learning through gradient descent !\n",
    "\n",
    "Since small values mean that our algorithm learns faster , we standardize our dataset which is a form of feature scaling!\n",
    "You can learn more about feature scaling here : https://en.wikipedia.org/wiki/Feature_scaling\n",
    "\n",
    "EDIT : While scaling, make sure to scale all the data by the same scaling factor !"
   ]
  },
  {
   "cell_type": "code",
   "execution_count": 158,
   "metadata": {},
   "outputs": [
    {
     "name": "stdout",
     "output_type": "stream",
     "text": [
      "(7, 623)\n",
      "[[ 0.82770401 -1.57071272  0.82770401 ...  0.82770401 -1.57071272\n",
      "   0.82770401]\n",
      " [ 0.76764947 -1.30267789 -1.30267789 ...  0.76764947  0.76764947\n",
      "   0.76764947]\n",
      " [-0.5792537   0.67215525 -0.26640146 ... -0.1881884   0.98500749\n",
      "  -0.73567982]\n",
      " [ 0.42388749  0.42388749 -0.49947581 ...  0.42388749  0.42388749\n",
      "   0.42388749]\n",
      " [-0.48340844 -0.48340844 -0.48340844 ... -0.48340844 -0.48340844\n",
      "   0.78198425]]\n"
     ]
    }
   ],
   "source": [
    "# inorder to standardize our dataset , we will subtract all features of our dataset by their mean\n",
    "# and divide it by the standard deviation of the features.\n",
    "# this will center the data and normalize our values so that gradient descent converges faster !\n",
    "def calc_stats(data):\n",
    "    mu = data.mean(axis = 1, keepdims = True)\n",
    "    sigma = data.std(axis = 1, keepdims = True)\n",
    "    return mu, sigma\n",
    "\n",
    "def standardize(data, mu, sigma):\n",
    "    std_data = (data - mu) / sigma\n",
    "    return std_data\n",
    "mu, sigma = calc_stats(X_train)\n",
    "X_train = standardize(X_train, mu, sigma)\n",
    "X_val = standardize(X_val, mu, sigma)\n",
    "\n",
    "#sanity check !\n",
    "print(X_train.shape)\n",
    "print(X_train[:5])"
   ]
  },
  {
   "cell_type": "markdown",
   "metadata": {},
   "source": [
    "Now that we have Normalized and centered our data , We are ready to write the Forward , backward propagation and gradient descent !\n",
    "\n",
    "First, we write a function to initialize our parameters based on the number of input features"
   ]
  },
  {
   "cell_type": "code",
   "execution_count": 159,
   "metadata": {},
   "outputs": [],
   "source": [
    "# initialize parameters\n",
    "def initialize_parameters(dim):\n",
    "    W = np.zeros((dim, 1))\n",
    "    b = 0\n",
    "    return W, b"
   ]
  },
  {
   "cell_type": "markdown",
   "metadata": {},
   "source": [
    "Now that we have initialized our parameters , we can make a prediction $A$ such that $A = \\sigma(Z)$ where, $Z = W^T.X + b $"
   ]
  },
  {
   "cell_type": "code",
   "execution_count": 160,
   "metadata": {},
   "outputs": [],
   "source": [
    "#forward propagation\n",
    "def forward_prop(X, W, b):\n",
    "#     #sanity check\n",
    "#     print(\"forward prop\")\n",
    "#     print(\"X shape:\" + str(X.shape))\n",
    "#     print(\"W shape:\" + str(W.shape))\n",
    "    Z = np.dot(W.T, X) + b\n",
    "    A = sigmoid(Z)\n",
    "    return A.T"
   ]
  },
  {
   "cell_type": "markdown",
   "metadata": {},
   "source": [
    "We will pass the value $Z$ to the sigmoid function that we wrote earlier to make a prediction.\n",
    "We need to use gradient descent algorithm to minimize the error of our prediction.\n",
    "\n",
    "We could use mean squared error , but as it turns out , for logistic regression , mean squared error leads\n",
    "to a non convex surface. Our gradient descent works best in cases where our error forms a convex surface.\n",
    "\n",
    "$$ \\operatorname{MSE}=\\frac{1}{m}\\sum_{i=1}^n(Y_i-\\hat{Y_i})^2 $$\n",
    "\n",
    "Where $Y$ is our actual lable , $\\hat{Y}$ is our prediction and $m$ are the number of training examples\n",
    "\n",
    "For logistic regression, we typically use something called as cross entropy loss, which leads to a nice convex surface for our gradient descent \n",
    "\n",
    "$$ \\operatorname{J} = -\\frac1m\\sum_{m=1}^M\\ \\bigg[y_n  \\log \\hat y_n + (1 - y_n)  \\log (1 - \\hat y_n)\\bigg] $$\n",
    "\n",
    "Learn More : https://rohanvarma.me/Loss-Functions/"
   ]
  },
  {
   "cell_type": "code",
   "execution_count": 161,
   "metadata": {},
   "outputs": [],
   "source": [
    "#cost function\n",
    "def compute_cost(Y, A):\n",
    "#     #sanity check\n",
    "#     print(\"computing cost\")\n",
    "#     print(\"Y shape:\" + str(Y.shape))\n",
    "#     print(\"A shape:\" + str(A.shape))\n",
    "    J = - np.sum(np.dot(Y.T, np.log(A)) + np.dot((1 - Y).T, np.log(1 - A)))/Y.shape[0]\n",
    "    return J"
   ]
  },
  {
   "cell_type": "markdown",
   "metadata": {},
   "source": [
    "Now that we have computed the cost / error of our predictions , we can compute the gradients which will be required for our gradient descent.\n",
    "\n",
    "We use the chain rule of multivariate calculus to calculate the gradient of our parameters W and B using chain rule.\n",
    "\n",
    "The relationship between our parameters $W$ and $b$ and our cost function $J$ can be defined as follows:\n",
    "\n",
    "$$ \\operatorname{Z} = W^TX + b $$\n",
    "$$ \\operatorname{A} = \\sigma(Z) $$\n",
    "$$ \\operatorname{J} = -\\frac1m\\sum_{m=1}^M\\ \\bigg[Y  \\log A + (1 - Y)  \\log (1 - A)\\bigg] $$\n",
    "\n",
    "By applying chain rule, \n",
    "\n",
    "$$ \\frac {\\partial J}{\\partial W} = \\frac {\\partial J}{\\partial A} \\frac {\\partial A}{\\partial Z} \\frac {\\partial Z}{\\partial W} $$\n",
    "\n",
    "And, \n",
    "\n",
    "$$ \\frac {\\partial J}{\\partial b} = \\frac {\\partial J}{\\partial A} \\frac {\\partial A}{\\partial Z} \\frac {\\partial Z}{\\partial b} $$\n",
    "\n",
    "If we work through the differentiation, we get the solutions :\n",
    "\n",
    "$$ \\frac{\\partial J}{\\partial w} = \\frac{1}{m}X(A-Y)^T\\tag{7}$$\n",
    "$$ \\frac{\\partial J}{\\partial b} = \\frac{1}{m} \\sum_{i=1}^m (a^{(i)}-y^{(i)})\\tag{8}$$\n",
    "\n",
    "Proof of this solution can be found here : https://stats.stackexchange.com/a/278812\n",
    "\n",
    "in our code, we will be writing the value $ \\frac{\\partial J}{\\partial w} $ as dW and value $\\frac{\\partial J}{\\partial b}$ as db.\n",
    "\n",
    "Let use proceed to writing our back propagtion function"
   ]
  },
  {
   "cell_type": "code",
   "execution_count": 162,
   "metadata": {},
   "outputs": [],
   "source": [
    "# back prop function\n",
    "def back_prop(X, Y, A):\n",
    "    #sanity check\n",
    "#     print(\"back_prop\")\n",
    "#     print(\"X shape:\" + str(X.shape))\n",
    "#     print(\"Y shape:\" + str(Y.shape))\n",
    "#     print(\"A shape:\" + str(A.shape))\n",
    "    dW = np.dot(X, (A-Y))/X.shape[1]\n",
    "    db = np.sum(A - Y)/X.shape[1]\n",
    "    \n",
    "    return dW, db"
   ]
  },
  {
   "cell_type": "markdown",
   "metadata": {},
   "source": [
    "Now that we have calculated our gradients, we can use gradient descent algorithm to update our parameters.\n",
    "Gradient Descent : https://en.wikipedia.org/wiki/Gradient_descent"
   ]
  },
  {
   "cell_type": "code",
   "execution_count": 163,
   "metadata": {},
   "outputs": [],
   "source": [
    "#gradient descent\n",
    "def gradient_descent(W, b, dW, db, learning_rate = 0.01):\n",
    "    W = W - learning_rate * dW\n",
    "    b = b - learning_rate * db\n",
    "    return W, b"
   ]
  },
  {
   "cell_type": "markdown",
   "metadata": {},
   "source": [
    "Now that we have defined all of our helper functions, we can puttogether our logistic regresion model !"
   ]
  },
  {
   "cell_type": "code",
   "execution_count": 164,
   "metadata": {},
   "outputs": [],
   "source": [
    "# Logistic regression function !\n",
    "def logistic_regression(X, Y, num_iterations, learning_rate, print_cost = False):\n",
    "    m = X_train.shape[1] #number of training examples\n",
    "    W, b = initialize_parameters(X_train.shape[0]) #initialize learning parameters\n",
    "    for i in tqdm.tqdm(range(num_iterations)):\n",
    "        \n",
    "        A = forward_prop(X, W, b)\n",
    "        cost = compute_cost(Y, A)\n",
    "        dW, db = back_prop(X, Y, A)\n",
    "        W, b = gradient_descent(W, b, dW, db, learning_rate)\n",
    "        \n",
    "        # Record the costs\n",
    "        if i % 100 == 0:\n",
    "            costs.append(cost)\n",
    "        # Print the cost every 100 training iterations\n",
    "        #if print_cost and i % 100 == 0:\n",
    "            #print(\"Cost after iteration %i: %f\" %(i, cost))    \n",
    "    plt.plot(costs)\n",
    "    return W, b"
   ]
  },
  {
   "cell_type": "markdown",
   "metadata": {},
   "source": [
    "After training our logistic regression model , we need to make predictions for our validation dataset and check their accuracy !"
   ]
  },
  {
   "cell_type": "code",
   "execution_count": 165,
   "metadata": {},
   "outputs": [],
   "source": [
    "#make predictions !\n",
    "def predict(X_val, W, b):\n",
    "    predictions = forward_prop(X_val, W, b)\n",
    "    \n",
    "    #map predictions below 0.5 to 0 and above 0.5 to 1\n",
    "    predictions[predictions > 0.5] = int(1)\n",
    "    predictions[predictions < 0.5] = int(0)\n",
    "    return predictions\n",
    "\n",
    "# calculate accuracy\n",
    "def test_accuracy(predictions, Y_val):\n",
    "    accuracy = np.sum(predictions == Y_val)/predictions.shape[0]*100\n",
    "    return accuracy"
   ]
  },
  {
   "cell_type": "markdown",
   "metadata": {},
   "source": [
    "Finally , lets Run our code !"
   ]
  },
  {
   "cell_type": "code",
   "execution_count": 166,
   "metadata": {},
   "outputs": [
    {
     "name": "stderr",
     "output_type": "stream",
     "text": [
      "100%|█████████████████████████████████████████████████████████████████████████| 10000/10000 [00:00<00:00, 18083.13it/s]\n"
     ]
    },
    {
     "data": {
      "image/png": "[encoded data removed]",
      "text/plain": [
       "<Figure size 432x288 with 1 Axes>"
      ]
     },
     "metadata": {
      "needs_background": "light"
     },
     "output_type": "display_data"
    }
   ],
   "source": [
    "costs = [] #store cost to plot against iterations\n",
    "W, b = logistic_regression(X_train, Y_train, 10000, 0.01, print_cost = True)"
   ]
  },
  {
   "cell_type": "markdown",
   "metadata": {},
   "source": [
    "Let us test the accuracy of our predictions using these parameters !"
   ]
  },
  {
   "cell_type": "code",
   "execution_count": 167,
   "metadata": {},
   "outputs": [
    {
     "name": "stdout",
     "output_type": "stream",
     "text": [
      "Accuracy on train data 80.09630818619583%\n",
      "Accuracy on validation data 80.59701492537313%\n"
     ]
    }
   ],
   "source": [
    "#make predictions on our validation dataset\n",
    "preds_train = predict(X_train, W, b)\n",
    "preds_val = predict(X_val, W, b)\n",
    "#calculate accuracy of our predictions\n",
    "print(f\"Accuracy on train data {test_accuracy(preds_train, Y_train)}%\")\n",
    "print(f\"Accuracy on validation data {test_accuracy(preds_val, Y_val)}%\")"
   ]
  },
  {
   "cell_type": "markdown",
   "metadata": {},
   "source": [
    "Now , we use our trained parameters to make predictions on our test dataset and save the results as CSV ! "
   ]
  },
  {
   "cell_type": "code",
   "execution_count": 168,
   "metadata": {},
   "outputs": [
    {
     "data": {
      "text/html": [
       "<div>\n",
       "<style scoped>\n",
       "    .dataframe tbody tr th:only-of-type {\n",
       "        vertical-align: middle;\n",
       "    }\n",
       "\n",
       "    .dataframe tbody tr th {\n",
       "        vertical-align: top;\n",
       "    }\n",
       "\n",
       "    .dataframe thead th {\n",
       "        text-align: right;\n",
       "    }\n",
       "</style>\n",
       "<table border=\"1\" class=\"dataframe\">\n",
       "  <thead>\n",
       "    <tr style=\"text-align: right;\">\n",
       "      <th></th>\n",
       "      <th>PassengerId</th>\n",
       "      <th>Survived</th>\n",
       "    </tr>\n",
       "  </thead>\n",
       "  <tbody>\n",
       "    <tr>\n",
       "      <td>0</td>\n",
       "      <td>892</td>\n",
       "      <td>0</td>\n",
       "    </tr>\n",
       "    <tr>\n",
       "      <td>1</td>\n",
       "      <td>893</td>\n",
       "      <td>0</td>\n",
       "    </tr>\n",
       "    <tr>\n",
       "      <td>2</td>\n",
       "      <td>894</td>\n",
       "      <td>0</td>\n",
       "    </tr>\n",
       "    <tr>\n",
       "      <td>3</td>\n",
       "      <td>895</td>\n",
       "      <td>0</td>\n",
       "    </tr>\n",
       "    <tr>\n",
       "      <td>4</td>\n",
       "      <td>896</td>\n",
       "      <td>1</td>\n",
       "    </tr>\n",
       "    <tr>\n",
       "      <td>...</td>\n",
       "      <td>...</td>\n",
       "      <td>...</td>\n",
       "    </tr>\n",
       "    <tr>\n",
       "      <td>413</td>\n",
       "      <td>1305</td>\n",
       "      <td>0</td>\n",
       "    </tr>\n",
       "    <tr>\n",
       "      <td>414</td>\n",
       "      <td>1306</td>\n",
       "      <td>1</td>\n",
       "    </tr>\n",
       "    <tr>\n",
       "      <td>415</td>\n",
       "      <td>1307</td>\n",
       "      <td>0</td>\n",
       "    </tr>\n",
       "    <tr>\n",
       "      <td>416</td>\n",
       "      <td>1308</td>\n",
       "      <td>0</td>\n",
       "    </tr>\n",
       "    <tr>\n",
       "      <td>417</td>\n",
       "      <td>1309</td>\n",
       "      <td>0</td>\n",
       "    </tr>\n",
       "  </tbody>\n",
       "</table>\n",
       "<p>418 rows × 2 columns</p>\n",
       "</div>"
      ],
      "text/plain": [
       "     PassengerId  Survived\n",
       "0            892         0\n",
       "1            893         0\n",
       "2            894         0\n",
       "3            895         0\n",
       "4            896         1\n",
       "..           ...       ...\n",
       "413         1305         0\n",
       "414         1306         1\n",
       "415         1307         0\n",
       "416         1308         0\n",
       "417         1309         0\n",
       "\n",
       "[418 rows x 2 columns]"
      ]
     },
     "execution_count": 168,
     "metadata": {},
     "output_type": "execute_result"
    }
   ],
   "source": [
    "#import test dataset\n",
    "X_test = data_test_cleaned.values\n",
    "\n",
    "#standardize test dataset\n",
    "X_test = X_test.T\n",
    "X_test = standardize(X_test, mu, sigma)\n",
    "\n",
    "#make predictions\n",
    "predictions_test = predict(X_test, W, b).astype(int)\n",
    "\n",
    "#compile into a dataframe\n",
    "predictions_df = pd.DataFrame({ 'PassengerId': data_test[\"PassengerId\"], 'Survived': predictions_test[:,0]})\n",
    "\n",
    "#export dataframe as csv\n",
    "predictions_df.to_csv(\"Logistic_regression.csv\", index = False)\n",
    "\n",
    "predictions_df"
   ]
  },
  {
   "cell_type": "markdown",
   "metadata": {},
   "source": [
    "This gets about 65% accuracy on test dataset according to kaggle.\n",
    "\n",
    "EDIT : gets 75% accuracy now after fixing the Scaling factor, Earlier , it would standardize the train and test datasets based on their own means and standard deviations. Fixed it so that the test data also uses the same mean and standard deviation as train data. This leads to a huge improvement !"
   ]
  },
  {
   "cell_type": "code",
   "execution_count": null,
   "metadata": {},
   "outputs": [],
   "source": []
  }
 ],
 "metadata": {
  "kernelspec": {
   "display_name": "Python 3",
   "language": "python",
   "name": "python3"
  },
  "language_info": {
   "codemirror_mode": {
    "name": "ipython",
    "version": 3
   },
   "file_extension": ".py",
   "mimetype": "text/x-python",
   "name": "python",
   "nbconvert_exporter": "python",
   "pygments_lexer": "ipython3",
   "version": "3.7.4"
  }
 },
 "nbformat": 4,
 "nbformat_minor": 2
}
